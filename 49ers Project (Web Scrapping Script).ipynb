{
 "cells": [
  {
   "cell_type": "markdown",
   "id": "3d3b9003",
   "metadata": {},
   "source": [
    "Webscrapping for Salary Cap and Contracts"
   ]
  },
  {
   "cell_type": "code",
   "execution_count": 93,
   "id": "4a537a89",
   "metadata": {},
   "outputs": [],
   "source": [
    "import requests\n",
    "import lxml.html as lh\n",
    "import pandas as pd\n",
    "import bs4\n",
    "\n",
    "url = \"https://www.spotrac.com/nfl/san-francisco-49ers/cap/\"\n",
    "url2 = \"https://www.spotrac.com/nfl/free-agents/\"\n",
    "url3 = \"https://overthecap.com/salary-cap-space/\""
   ]
  },
  {
   "cell_type": "code",
   "execution_count": 64,
   "id": "faed2026",
   "metadata": {},
   "outputs": [],
   "source": [
    "res = requests.get(url)\n",
    "doc = lh.fromstring(res.content)\n",
    "tr_elements = doc.xpath('//tr')"
   ]
  },
  {
   "cell_type": "code",
   "execution_count": 65,
   "id": "e8a57fd4",
   "metadata": {},
   "outputs": [
    {
     "data": {
      "text/plain": [
       "[12, 12, 12, 12, 12, 12, 12, 12, 12, 12, 12, 12]"
      ]
     },
     "execution_count": 65,
     "metadata": {},
     "output_type": "execute_result"
    }
   ],
   "source": [
    "#Check first 12 rows for number of columns\n",
    "[len(T) for T in tr_elements[:12]]"
   ]
  },
  {
   "cell_type": "code",
   "execution_count": 66,
   "id": "fde9ff1d",
   "metadata": {},
   "outputs": [
    {
     "name": "stdout",
     "output_type": "stream",
     "text": [
      "1:\"Active Players  (49)\"\n",
      "2:\"Pos.\"\n",
      "3:\"Base Salary\"\n",
      "4:\"Signing Bonus\"\n",
      "5:\"Roster Bonus\"\n",
      "6:\"Option Bonus\"\n",
      "7:\"Workout Bonus\"\n",
      "8:\"Restruc. Bonus\"\n",
      "9:\"Misc.\"\n",
      "10:\"Dead Cap\"\n",
      "11:\"Cap Hit\"\n",
      "12:\"Cap %\"\n"
     ]
    }
   ],
   "source": [
    "col = []\n",
    "i=0\n",
    "\n",
    "for t in tr_elements[0]:\n",
    "    i+=1\n",
    "    name=t.text_content()\n",
    "    print('%d:\"%s\"'%(i,name))\n",
    "    col.append((name,[]))"
   ]
  },
  {
   "cell_type": "code",
   "execution_count": 67,
   "id": "d68fcfcf",
   "metadata": {},
   "outputs": [],
   "source": [
    "#Since out first row is the header, data is stored on the second row onwards\n",
    "for j in range(1,len(tr_elements)):\n",
    "    #T is our j'th row\n",
    "    T=tr_elements[j]\n",
    "    \n",
    "    #If row is not of size 10, the //tr data is not from our table \n",
    "    if len(T)!=12:\n",
    "        break\n",
    "    \n",
    "    #i is the index of our column\n",
    "    i=0\n",
    "    \n",
    "    #Iterate through each element of the row\n",
    "    for t in T.iterchildren():\n",
    "        data=t.text_content() \n",
    "        #Check if row is empty\n",
    "        if i>0:\n",
    "        #Convert any numerical value to integers\n",
    "            try:\n",
    "                data=int(data)\n",
    "            except:\n",
    "                pass\n",
    "        #Append the data to the empty list of the i'th column\n",
    "        col[i][1].append(data)\n",
    "        #Increment i for the next column\n",
    "        i+=1\n"
   ]
  },
  {
   "cell_type": "code",
   "execution_count": 68,
   "id": "01a149da",
   "metadata": {},
   "outputs": [
    {
     "data": {
      "text/plain": [
       "[49, 49, 49, 49, 49, 49, 49, 49, 49, 49, 49, 49]"
      ]
     },
     "execution_count": 68,
     "metadata": {},
     "output_type": "execute_result"
    }
   ],
   "source": [
    "[len(C) for (title,C) in col]"
   ]
  },
  {
   "cell_type": "code",
   "execution_count": 69,
   "id": "0cecb4c8",
   "metadata": {},
   "outputs": [],
   "source": [
    "Dict={title:column for (title,column) in col}\n",
    "ninersalarycap=pd.DataFrame(Dict)"
   ]
  },
  {
   "cell_type": "code",
   "execution_count": 70,
   "id": "82dab589",
   "metadata": {},
   "outputs": [
    {
     "data": {
      "text/html": [
       "<div>\n",
       "<style scoped>\n",
       "    .dataframe tbody tr th:only-of-type {\n",
       "        vertical-align: middle;\n",
       "    }\n",
       "\n",
       "    .dataframe tbody tr th {\n",
       "        vertical-align: top;\n",
       "    }\n",
       "\n",
       "    .dataframe thead th {\n",
       "        text-align: right;\n",
       "    }\n",
       "</style>\n",
       "<table border=\"1\" class=\"dataframe\">\n",
       "  <thead>\n",
       "    <tr style=\"text-align: right;\">\n",
       "      <th></th>\n",
       "      <th>Active Players  (49)</th>\n",
       "      <th>Pos.</th>\n",
       "      <th>Base Salary</th>\n",
       "      <th>Signing Bonus</th>\n",
       "      <th>Roster Bonus</th>\n",
       "      <th>Option Bonus</th>\n",
       "      <th>Workout Bonus</th>\n",
       "      <th>Restruc. Bonus</th>\n",
       "      <th>Misc.</th>\n",
       "      <th>Dead Cap</th>\n",
       "      <th>Cap Hit</th>\n",
       "      <th>Cap %</th>\n",
       "    </tr>\n",
       "  </thead>\n",
       "  <tbody>\n",
       "    <tr>\n",
       "      <th>0</th>\n",
       "      <td>Garoppolo\\n\\t\\t\\t\\t\\t\\t\\t\\t\\t\\n\\t\\t\\t\\t\\t\\t\\t\\...</td>\n",
       "      <td>QB</td>\n",
       "      <td>$24,100,000</td>\n",
       "      <td>$1,400,000</td>\n",
       "      <td>$300,000</td>\n",
       "      <td>-</td>\n",
       "      <td>$600,000</td>\n",
       "      <td>-</td>\n",
       "      <td>-</td>\n",
       "      <td>($26,900,000)</td>\n",
       "      <td>$26,400,000</td>\n",
       "      <td>13.49</td>\n",
       "    </tr>\n",
       "    <tr>\n",
       "      <th>1</th>\n",
       "      <td>Armstead\\n\\t\\t\\t\\t\\t\\t\\t\\t\\t\\n\\t\\t\\t\\t\\t\\t\\t\\t...</td>\n",
       "      <td>DE</td>\n",
       "      <td>$6,650,000</td>\n",
       "      <td>$3,500,000</td>\n",
       "      <td>$705,882</td>\n",
       "      <td>$1,500,000</td>\n",
       "      <td>$100,000</td>\n",
       "      <td>-</td>\n",
       "      <td>-</td>\n",
       "      <td>($28,150,000)</td>\n",
       "      <td>$12,455,882</td>\n",
       "      <td>6.36</td>\n",
       "    </tr>\n",
       "    <tr>\n",
       "      <th>2</th>\n",
       "      <td>Bosa\\n\\t\\t\\t\\t\\t\\t\\t\\t\\t\\n\\t\\t\\t\\t\\t\\t\\t\\t\\t\\t...</td>\n",
       "      <td>DE</td>\n",
       "      <td>$780,000</td>\n",
       "      <td>$5,605,339</td>\n",
       "      <td>$2,870,170</td>\n",
       "      <td>-</td>\n",
       "      <td>-</td>\n",
       "      <td>-</td>\n",
       "      <td>-</td>\n",
       "      <td>($19,826,102)</td>\n",
       "      <td>$9,255,509</td>\n",
       "      <td>4.73</td>\n",
       "    </tr>\n",
       "    <tr>\n",
       "      <th>3</th>\n",
       "      <td>Williams\\n\\t\\t\\t\\t\\t\\t\\t\\t\\t\\n\\t\\t\\t\\t\\t\\t\\t\\t...</td>\n",
       "      <td>LT</td>\n",
       "      <td>$1,550,000</td>\n",
       "      <td>$6,020,000</td>\n",
       "      <td>$617,647</td>\n",
       "      <td>-</td>\n",
       "      <td>-</td>\n",
       "      <td>-</td>\n",
       "      <td>-</td>\n",
       "      <td>($40,100,000)</td>\n",
       "      <td>$8,187,647</td>\n",
       "      <td>4.18</td>\n",
       "    </tr>\n",
       "    <tr>\n",
       "      <th>4</th>\n",
       "      <td>Tomlinson\\n\\t\\t\\t\\t\\t\\t\\t\\t\\t\\n\\t\\t\\t\\t\\t\\t\\t\\...</td>\n",
       "      <td>G</td>\n",
       "      <td>$4,500,000</td>\n",
       "      <td>$1,250,000</td>\n",
       "      <td>$400,000</td>\n",
       "      <td>-</td>\n",
       "      <td>$100,000</td>\n",
       "      <td>$335,000</td>\n",
       "      <td>-</td>\n",
       "      <td>($7,090,000)</td>\n",
       "      <td>$6,585,000</td>\n",
       "      <td>3.36</td>\n",
       "    </tr>\n",
       "  </tbody>\n",
       "</table>\n",
       "</div>"
      ],
      "text/plain": [
       "                                Active Players  (49) Pos.  Base Salary  \\\n",
       "0  Garoppolo\\n\\t\\t\\t\\t\\t\\t\\t\\t\\t\\n\\t\\t\\t\\t\\t\\t\\t\\...   QB  $24,100,000   \n",
       "1  Armstead\\n\\t\\t\\t\\t\\t\\t\\t\\t\\t\\n\\t\\t\\t\\t\\t\\t\\t\\t...   DE   $6,650,000   \n",
       "2  Bosa\\n\\t\\t\\t\\t\\t\\t\\t\\t\\t\\n\\t\\t\\t\\t\\t\\t\\t\\t\\t\\t...   DE     $780,000   \n",
       "3  Williams\\n\\t\\t\\t\\t\\t\\t\\t\\t\\t\\n\\t\\t\\t\\t\\t\\t\\t\\t...   LT   $1,550,000   \n",
       "4  Tomlinson\\n\\t\\t\\t\\t\\t\\t\\t\\t\\t\\n\\t\\t\\t\\t\\t\\t\\t\\...    G   $4,500,000   \n",
       "\n",
       "  Signing Bonus Roster Bonus Option Bonus Workout Bonus Restruc. Bonus Misc.  \\\n",
       "0    $1,400,000     $300,000            -      $600,000              -     -   \n",
       "1    $3,500,000     $705,882   $1,500,000      $100,000              -     -   \n",
       "2    $5,605,339   $2,870,170            -             -              -     -   \n",
       "3    $6,020,000     $617,647            -             -              -     -   \n",
       "4    $1,250,000     $400,000            -      $100,000       $335,000     -   \n",
       "\n",
       "        Dead Cap       Cap Hit  Cap %  \n",
       "0  ($26,900,000)  $26,400,000   13.49  \n",
       "1  ($28,150,000)  $12,455,882    6.36  \n",
       "2  ($19,826,102)   $9,255,509    4.73  \n",
       "3  ($40,100,000)   $8,187,647    4.18  \n",
       "4   ($7,090,000)   $6,585,000    3.36  "
      ]
     },
     "execution_count": 70,
     "metadata": {},
     "output_type": "execute_result"
    }
   ],
   "source": [
    "ninersalarycap.head()"
   ]
  },
  {
   "cell_type": "code",
   "execution_count": 71,
   "id": "cbca5714",
   "metadata": {},
   "outputs": [],
   "source": [
    "#ninersalarycap.to_excel(\"49ers Salary Cap.xlsx\")"
   ]
  },
  {
   "cell_type": "code",
   "execution_count": 72,
   "id": "c8f1d04e",
   "metadata": {},
   "outputs": [],
   "source": [
    "res = requests.get(url2)\n",
    "doc = lh.fromstring(res.content)\n",
    "tr_elements = doc.xpath('//tr')"
   ]
  },
  {
   "cell_type": "code",
   "execution_count": 73,
   "id": "6bbb8e7e",
   "metadata": {},
   "outputs": [
    {
     "data": {
      "text/plain": [
       "[8, 8, 8, 8, 8, 8, 8, 8, 8, 8, 8, 8]"
      ]
     },
     "execution_count": 73,
     "metadata": {},
     "output_type": "execute_result"
    }
   ],
   "source": [
    "[len(T) for T in tr_elements[:12]]"
   ]
  },
  {
   "cell_type": "code",
   "execution_count": 74,
   "id": "365080c6",
   "metadata": {
    "scrolled": true
   },
   "outputs": [
    {
     "name": "stdout",
     "output_type": "stream",
     "text": [
      "1:\"Player (764)\"\n",
      "2:\"Pos.\"\n",
      "3:\"Age\"\n",
      "4:\"From\"\n",
      "5:\"To\"\n",
      "6:\"2021 AAV\"\n",
      "7:\"Status\"\n",
      "8:\"Market Value\"\n"
     ]
    }
   ],
   "source": [
    "col = []\n",
    "i=0\n",
    "\n",
    "for t in tr_elements[0]:\n",
    "    i+=1\n",
    "    name=t.text_content()\n",
    "    print('%d:\"%s\"'%(i,name))\n",
    "    col.append((name,[]))"
   ]
  },
  {
   "cell_type": "code",
   "execution_count": 75,
   "id": "b74ea795",
   "metadata": {},
   "outputs": [],
   "source": [
    "#Since out first row is the header, data is stored on the second row onwards\n",
    "for j in range(1,len(tr_elements)):\n",
    "    #T is our j'th row\n",
    "    T=tr_elements[j]\n",
    "    \n",
    "    #If row is not of size 10, the //tr data is not from our table\n",
    "    #Change for number of columns\n",
    "    if len(T)!=8:\n",
    "        break\n",
    "    \n",
    "    #i is the index of our column\n",
    "    i=0\n",
    "    \n",
    "    #Iterate through each element of the row\n",
    "    for t in T.iterchildren():\n",
    "        data=t.text_content() \n",
    "        #Check if row is empty\n",
    "        if i>0:\n",
    "        #Convert any numerical value to integers\n",
    "            try:\n",
    "                data=int(data)\n",
    "            except:\n",
    "                pass\n",
    "        #Append the data to the empty list of the i'th column\n",
    "        col[i][1].append(data)\n",
    "        #Increment i for the next column\n",
    "        i+=1"
   ]
  },
  {
   "cell_type": "code",
   "execution_count": 76,
   "id": "b07868f5",
   "metadata": {},
   "outputs": [
    {
     "data": {
      "text/plain": [
       "[764, 764, 764, 764, 764, 764, 764, 764]"
      ]
     },
     "execution_count": 76,
     "metadata": {},
     "output_type": "execute_result"
    }
   ],
   "source": [
    "[len(C) for (title,C) in col]"
   ]
  },
  {
   "cell_type": "code",
   "execution_count": 77,
   "id": "21335cc4",
   "metadata": {},
   "outputs": [],
   "source": [
    "Dict={title:column for (title,column) in col}\n",
    "freeagentdf=pd.DataFrame(Dict)"
   ]
  },
  {
   "cell_type": "code",
   "execution_count": 78,
   "id": "ab88af87",
   "metadata": {},
   "outputs": [
    {
     "data": {
      "text/html": [
       "<div>\n",
       "<style scoped>\n",
       "    .dataframe tbody tr th:only-of-type {\n",
       "        vertical-align: middle;\n",
       "    }\n",
       "\n",
       "    .dataframe tbody tr th {\n",
       "        vertical-align: top;\n",
       "    }\n",
       "\n",
       "    .dataframe thead th {\n",
       "        text-align: right;\n",
       "    }\n",
       "</style>\n",
       "<table border=\"1\" class=\"dataframe\">\n",
       "  <thead>\n",
       "    <tr style=\"text-align: right;\">\n",
       "      <th></th>\n",
       "      <th>Player (764)</th>\n",
       "      <th>Pos.</th>\n",
       "      <th>Age</th>\n",
       "      <th>From</th>\n",
       "      <th>To</th>\n",
       "      <th>2021 AAV</th>\n",
       "      <th>Status</th>\n",
       "      <th>Market Value</th>\n",
       "    </tr>\n",
       "  </thead>\n",
       "  <tbody>\n",
       "    <tr>\n",
       "      <th>0</th>\n",
       "      <td>Miller Von Miller</td>\n",
       "      <td>OLB</td>\n",
       "      <td>32.8</td>\n",
       "      <td>LAR</td>\n",
       "      <td>TBD</td>\n",
       "      <td>$19,016,667</td>\n",
       "      <td>UFA</td>\n",
       "      <td>Market Value</td>\n",
       "    </tr>\n",
       "    <tr>\n",
       "      <th>1</th>\n",
       "      <td>Scherff Brandon Scherff</td>\n",
       "      <td>G</td>\n",
       "      <td>30.0</td>\n",
       "      <td>WAS</td>\n",
       "      <td>TBD</td>\n",
       "      <td>$18,036,000</td>\n",
       "      <td>UFA</td>\n",
       "      <td>Market Value</td>\n",
       "    </tr>\n",
       "    <tr>\n",
       "      <th>2</th>\n",
       "      <td>Robinson Allen Robinson</td>\n",
       "      <td>WR</td>\n",
       "      <td>28.3</td>\n",
       "      <td>CHI</td>\n",
       "      <td>TBD</td>\n",
       "      <td>$17,880,000</td>\n",
       "      <td>UFA</td>\n",
       "      <td>Market Value</td>\n",
       "    </tr>\n",
       "    <tr>\n",
       "      <th>3</th>\n",
       "      <td>Jones Chandler Jones</td>\n",
       "      <td>OLB</td>\n",
       "      <td>31.8</td>\n",
       "      <td>ARI</td>\n",
       "      <td>TBD</td>\n",
       "      <td>$16,500,000</td>\n",
       "      <td>UFA</td>\n",
       "      <td>Market Value</td>\n",
       "    </tr>\n",
       "    <tr>\n",
       "      <th>4</th>\n",
       "      <td>Godwin Chris Godwin</td>\n",
       "      <td>WR</td>\n",
       "      <td>25.8</td>\n",
       "      <td>TB</td>\n",
       "      <td>TBD</td>\n",
       "      <td>$15,983,000</td>\n",
       "      <td>UFA</td>\n",
       "      <td>Market Value</td>\n",
       "    </tr>\n",
       "  </tbody>\n",
       "</table>\n",
       "</div>"
      ],
      "text/plain": [
       "               Player (764) Pos.   Age From   To     2021 AAV Status  \\\n",
       "0        Miller Von Miller   OLB  32.8  LAR  TBD  $19,016,667    UFA   \n",
       "1  Scherff Brandon Scherff     G  30.0  WAS  TBD  $18,036,000    UFA   \n",
       "2  Robinson Allen Robinson    WR  28.3  CHI  TBD  $17,880,000    UFA   \n",
       "3     Jones Chandler Jones   OLB  31.8  ARI  TBD  $16,500,000    UFA   \n",
       "4      Godwin Chris Godwin    WR  25.8   TB  TBD  $15,983,000    UFA   \n",
       "\n",
       "   Market Value  \n",
       "0  Market Value  \n",
       "1  Market Value  \n",
       "2  Market Value  \n",
       "3  Market Value  \n",
       "4  Market Value  "
      ]
     },
     "execution_count": 78,
     "metadata": {},
     "output_type": "execute_result"
    }
   ],
   "source": [
    "freeagentdf.head()"
   ]
  },
  {
   "cell_type": "code",
   "execution_count": 79,
   "id": "007c911c",
   "metadata": {},
   "outputs": [],
   "source": [
    "#freeagentdf.to_excel(\"Free Agents.xlsx\")"
   ]
  },
  {
   "cell_type": "code",
   "execution_count": 81,
   "id": "8220cf0f",
   "metadata": {},
   "outputs": [],
   "source": [
    "res = requests.get(url3)\n",
    "doc = lh.fromstring(res.content)\n",
    "tr_elements = doc.xpath('//tr')"
   ]
  },
  {
   "cell_type": "code",
   "execution_count": 82,
   "id": "7ab3b484",
   "metadata": {},
   "outputs": [
    {
     "data": {
      "text/plain": [
       "[6, 6, 6, 6, 6, 6, 6, 6, 6, 6]"
      ]
     },
     "execution_count": 82,
     "metadata": {},
     "output_type": "execute_result"
    }
   ],
   "source": [
    "[len(T) for T in tr_elements[:10]]"
   ]
  },
  {
   "cell_type": "code",
   "execution_count": 83,
   "id": "5a5f6cf9",
   "metadata": {},
   "outputs": [
    {
     "name": "stdout",
     "output_type": "stream",
     "text": [
      "1:\"Team\"\n",
      "2:\"Cap Space\"\n",
      "3:\"Effective Cap Space \n",
      "ℹ️Represents the maximum cap space a team will have when it signs at least 51 players to its roster for that season.\"\n",
      "4:\"#\"\n",
      "5:\"Active Cap Spending\"\n",
      "6:\"Dead Money\"\n"
     ]
    }
   ],
   "source": [
    "col = []\n",
    "i=0\n",
    "\n",
    "for t in tr_elements[0]:\n",
    "    i+=1\n",
    "    name=t.text_content()\n",
    "    print('%d:\"%s\"'%(i,name))\n",
    "    col.append((name,[]))"
   ]
  },
  {
   "cell_type": "code",
   "execution_count": 86,
   "id": "64f1dcc4",
   "metadata": {},
   "outputs": [],
   "source": [
    "#Since out first row is the header, data is stored on the second row onwards\n",
    "for j in range(1,len(tr_elements)):\n",
    "    #T is our j'th row\n",
    "    T=tr_elements[j]\n",
    "    \n",
    "    #If row is not of size 10, the //tr data is not from our table\n",
    "    #Change for number of columns\n",
    "    if len(T)!=6:\n",
    "        break\n",
    "    \n",
    "    #i is the index of our column\n",
    "    i=0\n",
    "    \n",
    "    #Iterate through each element of the row\n",
    "    for t in T.iterchildren():\n",
    "        data=t.text_content() \n",
    "        #Check if row is empty\n",
    "        if i>0:\n",
    "        #Convert any numerical value to integers\n",
    "            try:\n",
    "                data=int(data)\n",
    "            except:\n",
    "                pass\n",
    "        #Append the data to the empty list of the i'th column\n",
    "        col[i][1].append(data)\n",
    "        #Increment i for the next column\n",
    "        i+=1"
   ]
  },
  {
   "cell_type": "code",
   "execution_count": 120,
   "id": "3929160c",
   "metadata": {},
   "outputs": [
    {
     "data": {
      "text/plain": [
       "[0]"
      ]
     },
     "execution_count": 120,
     "metadata": {},
     "output_type": "execute_result"
    }
   ],
   "source": [
    "[len(C) for (title,C) in col]"
   ]
  },
  {
   "cell_type": "code",
   "execution_count": 89,
   "id": "1fe8990f",
   "metadata": {},
   "outputs": [],
   "source": [
    "Dict={title:column for (title,column) in col}\n",
    "nflsalarycapdf=pd.DataFrame(Dict)"
   ]
  },
  {
   "cell_type": "code",
   "execution_count": 91,
   "id": "7d27edf4",
   "metadata": {
    "scrolled": false
   },
   "outputs": [
    {
     "data": {
      "text/html": [
       "<div>\n",
       "<style scoped>\n",
       "    .dataframe tbody tr th:only-of-type {\n",
       "        vertical-align: middle;\n",
       "    }\n",
       "\n",
       "    .dataframe tbody tr th {\n",
       "        vertical-align: top;\n",
       "    }\n",
       "\n",
       "    .dataframe thead th {\n",
       "        text-align: right;\n",
       "    }\n",
       "</style>\n",
       "<table border=\"1\" class=\"dataframe\">\n",
       "  <thead>\n",
       "    <tr style=\"text-align: right;\">\n",
       "      <th></th>\n",
       "      <th>Team</th>\n",
       "      <th>Cap Space</th>\n",
       "      <th>Effective Cap Space \\nℹ️Represents the maximum cap space a team will have when it signs at least 51 players to its roster for that season.</th>\n",
       "      <th>#</th>\n",
       "      <th>Active Cap Spending</th>\n",
       "      <th>Dead Money</th>\n",
       "    </tr>\n",
       "  </thead>\n",
       "  <tbody>\n",
       "    <tr>\n",
       "      <th>0</th>\n",
       "      <td>Dolphins</td>\n",
       "      <td>$74,266,682</td>\n",
       "      <td>$60,666,868</td>\n",
       "      <td>37</td>\n",
       "      <td>$135,156,136</td>\n",
       "      <td>$1,660,066</td>\n",
       "    </tr>\n",
       "    <tr>\n",
       "      <th>1</th>\n",
       "      <td>Chargers</td>\n",
       "      <td>$69,753,197</td>\n",
       "      <td>$53,457,962</td>\n",
       "      <td>33</td>\n",
       "      <td>$147,976,259</td>\n",
       "      <td>$314,722</td>\n",
       "    </tr>\n",
       "    <tr>\n",
       "      <th>2</th>\n",
       "      <td>Jaguars</td>\n",
       "      <td>$68,258,401</td>\n",
       "      <td>$50,188,789</td>\n",
       "      <td>39</td>\n",
       "      <td>$149,656,103</td>\n",
       "      <td>$17,809,664</td>\n",
       "    </tr>\n",
       "    <tr>\n",
       "      <th>3</th>\n",
       "      <td>Washington</td>\n",
       "      <td>$61,746,305</td>\n",
       "      <td>$45,071,322</td>\n",
       "      <td>35</td>\n",
       "      <td>$156,010,699</td>\n",
       "      <td>$702,996</td>\n",
       "    </tr>\n",
       "    <tr>\n",
       "      <th>4</th>\n",
       "      <td>Bengals</td>\n",
       "      <td>$57,872,458</td>\n",
       "      <td>$45,326,620</td>\n",
       "      <td>38</td>\n",
       "      <td>$158,375,588</td>\n",
       "      <td>$400,911</td>\n",
       "    </tr>\n",
       "    <tr>\n",
       "      <th>...</th>\n",
       "      <td>...</td>\n",
       "      <td>...</td>\n",
       "      <td>...</td>\n",
       "      <td>...</td>\n",
       "      <td>...</td>\n",
       "      <td>...</td>\n",
       "    </tr>\n",
       "    <tr>\n",
       "      <th>93</th>\n",
       "      <td>Colts</td>\n",
       "      <td>$139,314,864</td>\n",
       "      <td>$108,309,864</td>\n",
       "      <td>12</td>\n",
       "      <td>$116,685,136</td>\n",
       "      <td>$0</td>\n",
       "    </tr>\n",
       "    <tr>\n",
       "      <th>94</th>\n",
       "      <td>49ers</td>\n",
       "      <td>$137,190,165</td>\n",
       "      <td>$108,570,165</td>\n",
       "      <td>15</td>\n",
       "      <td>$118,809,835</td>\n",
       "      <td>$0</td>\n",
       "    </tr>\n",
       "    <tr>\n",
       "      <th>95</th>\n",
       "      <td>Saints</td>\n",
       "      <td>$130,497,973</td>\n",
       "      <td>$104,262,973</td>\n",
       "      <td>18</td>\n",
       "      <td>$125,502,027</td>\n",
       "      <td>$0</td>\n",
       "    </tr>\n",
       "    <tr>\n",
       "      <th>96</th>\n",
       "      <td>Cowboys</td>\n",
       "      <td>$113,081,017</td>\n",
       "      <td>$86,846,017</td>\n",
       "      <td>18</td>\n",
       "      <td>$142,918,983</td>\n",
       "      <td>$0</td>\n",
       "    </tr>\n",
       "    <tr>\n",
       "      <th>97</th>\n",
       "      <td>Eagles</td>\n",
       "      <td>$91,703,715</td>\n",
       "      <td>$74,213,715</td>\n",
       "      <td>29</td>\n",
       "      <td>$164,296,285</td>\n",
       "      <td>$0</td>\n",
       "    </tr>\n",
       "  </tbody>\n",
       "</table>\n",
       "<p>98 rows × 6 columns</p>\n",
       "</div>"
      ],
      "text/plain": [
       "          Team     Cap Space  \\\n",
       "0     Dolphins   $74,266,682   \n",
       "1     Chargers   $69,753,197   \n",
       "2      Jaguars   $68,258,401   \n",
       "3   Washington   $61,746,305   \n",
       "4      Bengals   $57,872,458   \n",
       "..         ...           ...   \n",
       "93       Colts  $139,314,864   \n",
       "94       49ers  $137,190,165   \n",
       "95      Saints  $130,497,973   \n",
       "96     Cowboys  $113,081,017   \n",
       "97      Eagles   $91,703,715   \n",
       "\n",
       "   Effective Cap Space \\nℹ️Represents the maximum cap space a team will have when it signs at least 51 players to its roster for that season.  \\\n",
       "0                                         $60,666,868                                                                                           \n",
       "1                                         $53,457,962                                                                                           \n",
       "2                                         $50,188,789                                                                                           \n",
       "3                                         $45,071,322                                                                                           \n",
       "4                                         $45,326,620                                                                                           \n",
       "..                                                ...                                                                                           \n",
       "93                                       $108,309,864                                                                                           \n",
       "94                                       $108,570,165                                                                                           \n",
       "95                                       $104,262,973                                                                                           \n",
       "96                                        $86,846,017                                                                                           \n",
       "97                                        $74,213,715                                                                                           \n",
       "\n",
       "     # Active Cap Spending   Dead Money  \n",
       "0   37        $135,156,136   $1,660,066  \n",
       "1   33        $147,976,259     $314,722  \n",
       "2   39        $149,656,103  $17,809,664  \n",
       "3   35        $156,010,699     $702,996  \n",
       "4   38        $158,375,588     $400,911  \n",
       "..  ..                 ...          ...  \n",
       "93  12        $116,685,136           $0  \n",
       "94  15        $118,809,835           $0  \n",
       "95  18        $125,502,027           $0  \n",
       "96  18        $142,918,983           $0  \n",
       "97  29        $164,296,285           $0  \n",
       "\n",
       "[98 rows x 6 columns]"
      ]
     },
     "execution_count": 91,
     "metadata": {},
     "output_type": "execute_result"
    }
   ],
   "source": [
    "nflsalarycapdf.head(100)"
   ]
  },
  {
   "cell_type": "code",
   "execution_count": 92,
   "id": "23927ac8",
   "metadata": {},
   "outputs": [],
   "source": [
    "#nflsalarycapdf.to_excel(\"NFL Team Salary Cap.xlsx\")"
   ]
  }
 ],
 "metadata": {
  "kernelspec": {
   "display_name": "Python 3",
   "language": "python",
   "name": "python3"
  },
  "language_info": {
   "codemirror_mode": {
    "name": "ipython",
    "version": 3
   },
   "file_extension": ".py",
   "mimetype": "text/x-python",
   "name": "python",
   "nbconvert_exporter": "python",
   "pygments_lexer": "ipython3",
   "version": "3.8.8"
  }
 },
 "nbformat": 4,
 "nbformat_minor": 5
}
